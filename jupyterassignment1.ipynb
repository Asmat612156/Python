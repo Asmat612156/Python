{
 "cells": [
  {
   "cell_type": "code",
   "execution_count": 1,
   "id": "9785f315",
   "metadata": {},
   "outputs": [
    {
     "name": "stdout",
     "output_type": "stream",
     "text": [
      "Hello World\n",
      "Pakistan zinda bad\n",
      "NED University\n"
     ]
    }
   ],
   "source": [
    "print(\"Hello World\")\n",
    "print(\"Pakistan zinda bad\")\n",
    "print(\"NED University\")"
   ]
  },
  {
   "cell_type": "code",
   "execution_count": null,
   "id": "ca4c8a5c",
   "metadata": {},
   "outputs": [],
   "source": []
  }
 ],
 "metadata": {
  "kernelspec": {
   "display_name": "Python 3 (ipykernel)",
   "language": "python",
   "name": "python3"
  },
  "language_info": {
   "codemirror_mode": {
    "name": "ipython",
    "version": 3
   },
   "file_extension": ".py",
   "mimetype": "text/x-python",
   "name": "python",
   "nbconvert_exporter": "python",
   "pygments_lexer": "ipython3",
   "version": "3.11.3"
  }
 },
 "nbformat": 4,
 "nbformat_minor": 5
}
