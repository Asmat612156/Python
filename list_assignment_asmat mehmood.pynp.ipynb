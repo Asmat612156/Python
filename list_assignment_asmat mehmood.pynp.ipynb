{
 "cells": [
  {
   "cell_type": "markdown",
   "id": "20dc648a",
   "metadata": {},
   "source": [
    "# Question 1: Basic List Operations"
   ]
  },
  {
   "cell_type": "code",
   "execution_count": 20,
   "id": "64d5a02b",
   "metadata": {},
   "outputs": [
    {
     "name": "stdout",
     "output_type": "stream",
     "text": [
      "['apple', 'banana', 'orange', 'grape', 'kiwi']\n"
     ]
    }
   ],
   "source": [
    "# a) Create a list named `fruits` containing the following items: \"apple\", \"banana\", \"orange\", \"grape\", \"kiwi\".\n",
    "fruit_List =[\"apple\",\"banana\",\"orange\",\"grape\",\"kiwi\"]\n",
    "print(fruit_List) # print fruit list"
   ]
  },
  {
   "cell_type": "code",
   "execution_count": 44,
   "id": "cfe39501",
   "metadata": {},
   "outputs": [
    {
     "name": "stdout",
     "output_type": "stream",
     "text": [
      "['apple', 'banana', 'orange', 'grape', 'kiwi', 'pear']\n"
     ]
    }
   ],
   "source": [
    "#Add \"pear\" to the end of the list.\n",
    "fruit_List =[\"apple\",\"banana\",\"orange\",\"grape\",\"kiwi\"]\n",
    "fruit_List.append(\"pear\")\n",
    "print(fruit_List) # print fruit list"
   ]
  },
  {
   "cell_type": "code",
   "execution_count": 49,
   "id": "4355f655",
   "metadata": {},
   "outputs": [
    {
     "name": "stdout",
     "output_type": "stream",
     "text": [
      "['apple', 'mango', 'banana', 'orange', 'grape', 'kiwi']\n"
     ]
    }
   ],
   "source": [
    "#Insert \"mango\" at the second position in the list.\n",
    "fruit_List =[\"apple\",\"banana\",\"orange\",\"grape\",\"kiwi\"]\n",
    "fruit_List.insert(1,\"mango\")\n",
    "print(fruit_List) # print fruit list"
   ]
  },
  {
   "cell_type": "code",
   "execution_count": 52,
   "id": "e7b774db",
   "metadata": {},
   "outputs": [
    {
     "name": "stdout",
     "output_type": "stream",
     "text": [
      "['apple', 'banana', 'grape', 'kiwi']\n"
     ]
    }
   ],
   "source": [
    "#Remove \"orange\" from the list.\n",
    "fruit_List =[\"apple\",\"banana\",\"orange\",\"grape\",\"kiwi\"]\n",
    "fruit_List.remove(\"orange\")\n",
    "print(fruit_List) # print fruit list\n"
   ]
  },
  {
   "cell_type": "markdown",
   "id": "ed282bc7",
   "metadata": {},
   "source": [
    "# Question 2: Slicing and Indexing"
   ]
  },
  {
   "cell_type": "code",
   "execution_count": 55,
   "id": "f0088cb5",
   "metadata": {},
   "outputs": [
    {
     "name": "stdout",
     "output_type": "stream",
     "text": [
      "[0, 1, 2, 3, 4, 5, 6, 7, 8, 9]\n"
     ]
    }
   ],
   "source": [
    " #a) Create a list named `numbers` containing the integers from 0 to 9.   \n",
    "numbers = [0,1,2,3,4,5,6,7,8,9]\n",
    "print(numbers)"
   ]
  },
  {
   "cell_type": "code",
   "execution_count": 57,
   "id": "e578a65f",
   "metadata": {},
   "outputs": [
    {
     "name": "stdout",
     "output_type": "stream",
     "text": [
      "3\n"
     ]
    }
   ],
   "source": [
    "#b) Print the element at index 3.\n",
    "numbers = [0,1,2,3,4,5,6,7,8,9]\n",
    "print(numbers[3])"
   ]
  },
  {
   "cell_type": "code",
   "execution_count": 70,
   "id": "80f103a0",
   "metadata": {},
   "outputs": [
    {
     "name": "stdout",
     "output_type": "stream",
     "text": [
      "[2, 3, 4, 5, 6]\n"
     ]
    }
   ],
   "source": [
    "#c) Print a sublist containing the elements from index 2 to 6 (inclusive).\n",
    "numbers = [0,1,2,3,4,5,6,7,8,9]\n",
    "print(numbers[2:7])"
   ]
  },
  {
   "cell_type": "code",
   "execution_count": 116,
   "id": "9b35d9d3",
   "metadata": {},
   "outputs": [
    {
     "name": "stdout",
     "output_type": "stream",
     "text": [
      "[7, 8, 9]\n",
      "[2, 3, 4, 5, 6]\n",
      "[6, 7, 8]\n",
      "[6, 7, 8]\n"
     ]
    }
   ],
   "source": [
    "#d) Print the last three elements using negative indexing.\n",
    "numbers = [0,1,2,3,4,5,6,7,8,9]\n",
    "print(numbers[-3:])\n",
    "print(numbers[-8:-3])\n",
    "print(numbers[-4:-1])\n",
    "print(numbers[-4:-1])\n"
   ]
  },
  {
   "cell_type": "markdown",
   "id": "a650cfda",
   "metadata": {},
   "source": [
    "# Question 3: List Comprehension"
   ]
  },
  {
   "cell_type": "code",
   "execution_count": 166,
   "id": "0f11022a",
   "metadata": {},
   "outputs": [
    {
     "name": "stdout",
     "output_type": "stream",
     "text": [
      "[1, 2, 3, 4, 5, 6, 7, 8, 9, 10]\n",
      "[1, 4, 9, 16, 25, 36, 49, 64, 81, 100]\n"
     ]
    }
   ],
   "source": [
    "# a) Create a list named `squares` using a list comprehension that contains the squares of numbers from 1 to 10.\n",
    "num = list(range(1,11))\n",
    "print(num)\n",
    "\n",
    "squares_num = []\n",
    "for sqnumber in num:\n",
    "    squares_num.append(sqnumber**2)\n",
    "print(squares_num)"
   ]
  },
  {
   "cell_type": "code",
   "execution_count": 196,
   "id": "3ee49c28",
   "metadata": {},
   "outputs": [
    {
     "name": "stdout",
     "output_type": "stream",
     "text": [
      "[4, 16, 36, 64, 100]\n"
     ]
    }
   ],
   "source": [
    "#b) Create a new list named `even_squares` using a list comprehension that contains the squares of even numbers from the `squares` list\n",
    "\n",
    "num = list(range(1,11))\n",
    "even_square = [n*n for n in num if n**2%2==0]\n",
    "print(even_square)"
   ]
  },
  {
   "cell_type": "markdown",
   "id": "68a02af1",
   "metadata": {},
   "source": [
    "# Question 4: List Manipulation"
   ]
  },
  {
   "cell_type": "code",
   "execution_count": 230,
   "id": "3162b61e",
   "metadata": {},
   "outputs": [
    {
     "name": "stdout",
     "output_type": "stream",
     "text": [
      "['red', 'green', 'blue', 'yellow', 'pruple']\n",
      "0\n",
      "4\n",
      "['pruple', 'green', 'blue', 'yellow', 'pruple']\n"
     ]
    }
   ],
   "source": [
    "#Create a list named `colors` containing the following items: \"red\", \"green\", \"blue\", \"yellow\", \"purple\".\n",
    "\n",
    "color = ['red','green','blue','yellow','pruple']\n",
    "color_first = color.index('red')\n",
    "color_last = color.index('pruple')\n",
    "print(color)\n",
    "print(color_first)\n",
    "print(color_last)\n",
    "color[color_first] = color[color_last]\n",
    "color[color_last] = color[color_first]\n",
    "print(color)"
   ]
  },
  {
   "cell_type": "code",
   "execution_count": 242,
   "id": "ddb9d55f",
   "metadata": {},
   "outputs": [
    {
     "name": "stdout",
     "output_type": "stream",
     "text": [
      "['red', 'green', 'blue', 'yellow', 'pruple']\n",
      "['pruple', 'green', 'blue', 'yellow', 'red']\n"
     ]
    }
   ],
   "source": [
    "#Create a list named `colors` containing the following items: \"red\", \"green\", \"blue\", \"yellow\", \"purple\".\n",
    "\n",
    "color = ['red','green','blue','yellow','pruple']\n",
    "colors = color.copy() # create copy of list\n",
    "color_first = color.index('red')\n",
    "color_last = color.index('pruple')\n",
    "colors[color_first] = colors[color_last]\n",
    "colors[color_last] = color[color_first]\n",
    "print(color)\n",
    "print(colors)"
   ]
  },
  {
   "cell_type": "code",
   "execution_count": 258,
   "id": "b04954c0",
   "metadata": {},
   "outputs": [
    {
     "name": "stdout",
     "output_type": "stream",
     "text": [
      "['pruple', 'yellow', 'blue', 'green', 'red']\n"
     ]
    }
   ],
   "source": [
    "# Reverse the order of the list.\n",
    "color = ['red','green','blue','yellow','pruple']\n",
    "color.reverse()\n",
    "print(color)\n"
   ]
  },
  {
   "cell_type": "code",
   "execution_count": 262,
   "id": "4918a970",
   "metadata": {},
   "outputs": [
    {
     "name": "stdout",
     "output_type": "stream",
     "text": [
      "['red', 'yellow', 'pruple']\n"
     ]
    }
   ],
   "source": [
    "color = ['red','green','blue','yellow','pruple']\n",
    "color.remove('green')\n",
    "color.remove('blue')\n",
    "print(color)\n"
   ]
  },
  {
   "cell_type": "markdown",
   "id": "640eea7a",
   "metadata": {},
   "source": [
    "# Question 5: Advanced Slicing"
   ]
  },
  {
   "cell_type": "code",
   "execution_count": 307,
   "id": "589410bb",
   "metadata": {},
   "outputs": [
    {
     "name": "stdout",
     "output_type": "stream",
     "text": [
      "['a', 'b', 'c', 'd', 'e', 'f', 'g', 'h', 'i', 'j']\n",
      "5\n",
      "['a', 'b', 'c', 'd', 'e']\n",
      "['f', 'g', 'h', 'i', 'j']\n"
     ]
    }
   ],
   "source": [
    "#a) Create a list named `letters` containing the letters from 'a' to 'j'.\n",
    "Letters = ['a','b','c','d','e','f','g','h','i','j']\n",
    "print(Letters)\n",
    "print(int(len(Letters)/2))\n",
    "first_half= Letters[0:int(len(Letters)/2)]\n",
    "secnodhalf= Letters[int(len(Letters))-int(len(Letters)/2):]\n",
    "print(first_half)\n",
    "                        \n",
    "print(secnodhalf)"
   ]
  },
  {
   "cell_type": "code",
   "execution_count": 309,
   "id": "cf0de55e",
   "metadata": {},
   "outputs": [
    {
     "name": "stdout",
     "output_type": "stream",
     "text": [
      "['a', 'b', 'c', 'd', 'e', 'f', 'g', 'h', 'i', 'j']\n",
      "['h', 'i', 'j']\n"
     ]
    }
   ],
   "source": [
    "# c) Using slicing, create a new list `last_three` containing the last three elements of the `letters` list.\n",
    "\n",
    "Letters = ['a','b','c','d','e','f','g','h','i','j']\n",
    "print(Letters)\n",
    "last_three= Letters[-3:int(len(Letters))]\n",
    "print(last_three)"
   ]
  },
  {
   "cell_type": "markdown",
   "id": "16906ac2",
   "metadata": {},
   "source": [
    "# Question 6: Nested Lists"
   ]
  },
  {
   "cell_type": "code",
   "execution_count": 320,
   "id": "a894006f",
   "metadata": {},
   "outputs": [
    {
     "name": "stdout",
     "output_type": "stream",
     "text": [
      "[[1, 2, 3], [4, 5, 6], [7, 8, 9]]\n"
     ]
    }
   ],
   "source": [
    "list_1 = [1,2,3]\n",
    "list_2 = [4,5,6]\n",
    "list_3 = [7,8,9]\n",
    "\n",
    "matrix = []\n",
    "\n",
    "matrix.append(list_1)\n",
    "matrix.append(list_2)\n",
    "matrix.append(list_3)\n",
    "print(matrix)\n"
   ]
  },
  {
   "cell_type": "code",
   "execution_count": 345,
   "id": "5c46cdf8",
   "metadata": {},
   "outputs": [
    {
     "data": {
      "text/plain": [
       "[[1, 2, 3], [4, 5, 6], [7, 8, 9]]"
      ]
     },
     "metadata": {},
     "output_type": "display_data"
    },
    {
     "data": {
      "text/plain": [
       "6"
      ]
     },
     "execution_count": 345,
     "metadata": {},
     "output_type": "execute_result"
    }
   ],
   "source": [
    "# Print the element in the second row and third column.\n",
    "matrix = [[1,2,3],\n",
    "          [4,5,6],\n",
    "          [7,8,9]]\n",
    "display(matrix)\n",
    "matrix[1][2] "
   ]
  },
  {
   "cell_type": "code",
   "execution_count": 335,
   "id": "65c48515",
   "metadata": {},
   "outputs": [
    {
     "data": {
      "text/plain": [
       "array([[1, 2, 3],\n",
       "       [4, 5, 6],\n",
       "       [7, 8, 9]])"
      ]
     },
     "execution_count": 335,
     "metadata": {},
     "output_type": "execute_result"
    }
   ],
   "source": [
    "# Print the element in the second row and third column.\n",
    "import numpy as np\n",
    "\n",
    "matrix = np.arange(1,10).reshape(3,3)\n",
    "matrix"
   ]
  },
  {
   "cell_type": "code",
   "execution_count": 344,
   "id": "9deba5e1",
   "metadata": {},
   "outputs": [
    {
     "data": {
      "text/plain": [
       "6"
      ]
     },
     "execution_count": 344,
     "metadata": {},
     "output_type": "execute_result"
    }
   ],
   "source": [
    "matrix[1][2] "
   ]
  },
  {
   "cell_type": "code",
   "execution_count": 363,
   "id": "0e1622bf",
   "metadata": {},
   "outputs": [
    {
     "name": "stdout",
     "output_type": "stream",
     "text": [
      "[1, 2, 3]\n",
      "[0, 5, 6]\n",
      "[7, 8, 9]\n"
     ]
    }
   ],
   "source": [
    "# Print the element in the second row and third column.\n",
    "matrix = [[1,2,3],\n",
    "          [4,5,6],\n",
    "          [7,8,9]]\n",
    "matrix[1][0] = 0\n",
    "for change in matrix:\n",
    "    print(change)"
   ]
  },
  {
   "cell_type": "code",
   "execution_count": null,
   "id": "43fb1490",
   "metadata": {},
   "outputs": [],
   "source": []
  }
 ],
 "metadata": {
  "kernelspec": {
   "display_name": "Python 3 (ipykernel)",
   "language": "python",
   "name": "python3"
  },
  "language_info": {
   "codemirror_mode": {
    "name": "ipython",
    "version": 3
   },
   "file_extension": ".py",
   "mimetype": "text/x-python",
   "name": "python",
   "nbconvert_exporter": "python",
   "pygments_lexer": "ipython3",
   "version": "3.11.3"
  }
 },
 "nbformat": 4,
 "nbformat_minor": 5
}
