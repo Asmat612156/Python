{
 "cells": [
  {
   "cell_type": "code",
   "execution_count": 7,
   "id": "55644e64",
   "metadata": {},
   "outputs": [
    {
     "name": "stdout",
     "output_type": "stream",
     "text": [
      "My Name is Asmat MehmoodI am 30years old and I live inPakistan\n"
     ]
    }
   ],
   "source": [
    "#Assignment 1\n",
    "# Print the concatenated sentence using + operator\n",
    "\n",
    "name = \"Asmat Mehmood\"\n",
    "age =   30\n",
    "city = \"Pakistan\"\n",
    "\n",
    "Introuction = \"My Name is \" + str(name) + \"I am \" + str(age) + \"years old\" + \" and I live in\" + str(city)\n",
    "\n",
    "\n",
    "print (Introuction)"
   ]
  },
  {
   "cell_type": "code",
   "execution_count": 38,
   "id": "15e3344d",
   "metadata": {},
   "outputs": [
    {
     "name": "stdout",
     "output_type": "stream",
     "text": [
      "I bought 2 laptop(s) at 200000 each, for a total of 400000.\n"
     ]
    }
   ],
   "source": [
    "# Assignment 2: String Formatting using `.format()`\n",
    "\n",
    "item = \"laptop\"\n",
    "price = 200000\n",
    "units = 2\n",
    "total_cost   =  price * units\n",
    "\n",
    "format_string = \"I bought {2} {0}(s) at {1} each, for a total of {3}.\".format(item,price,units,total_cost)\n",
    "\n",
    "print (format_string)"
   ]
  },
  {
   "cell_type": "code",
   "execution_count": 39,
   "id": "6141ba4d",
   "metadata": {},
   "outputs": [
    {
     "name": "stdout",
     "output_type": "stream",
     "text": [
      "The temperature in Karachi is 28 °C.\n"
     ]
    }
   ],
   "source": [
    "# Assignment 3: String Interpolation using `f''`\n",
    "city = \"Karachi\"\n",
    "temperature_c = 28\n",
    "\n",
    "\n",
    "format_string = f\"\"\"The temperature in {city} is {temperature_c} °C.\"\"\"\n",
    "\n",
    "print (format_string)"
   ]
  },
  {
   "cell_type": "code",
   "execution_count": 105,
   "id": "13471a4a",
   "metadata": {},
   "outputs": [
    {
     "name": "stdout",
     "output_type": "stream",
     "text": [
      "My name is Asmat  Mehmood . I am 31 years old.\n"
     ]
    }
   ],
   "source": [
    "#Assignment 4: String Formatting using `%()`\n",
    "\n",
    "import datetime\n",
    "from datetime import datetime\n",
    "\n",
    "first_name = \"Asmat \"\n",
    "last_name = \"Mehmood\"\n",
    "birth_year = 1992\n",
    "current_year = datetime.now().year\n",
    "age =  current_year - birth_year\n",
    "\n",
    "string_format = \"My name is %s %s . I am %d years old.\"%(first_name,last_name,age)\n",
    "print (string_format)\n"
   ]
  },
  {
   "cell_type": "code",
   "execution_count": 95,
   "id": "54219e6b",
   "metadata": {},
   "outputs": [
    {
     "name": "stdout",
     "output_type": "stream",
     "text": [
      "\n",
      "Product Name:\t\tLaptop\n",
      "Discount%:\t\t20\n",
      "Orignal Price:\t\t200000\n",
      "Discounted Price:\t160000.0\n"
     ]
    }
   ],
   "source": [
    "#Assignment 5: Combining Formatting Methods using `+' operator\n",
    "\n",
    "product_name = \"Laptop\"\n",
    "disc = 20\n",
    "orignal_price = 200000\n",
    "discount_price = orignal_price * (1-disc/100)\n",
    "\n",
    "descriptive_string1 = \"\\nProduct Name:\\t\\t\" +  str(product_name)+\\\n",
    "\"\\nDiscount%:\\t\\t\" + str(disc) + \"\\nOrignal Price:\\t\\t\" + str(orignal_price)+\\\n",
    "\"\\nDiscounted Price:\\t\"+ str(discount_price)\n",
    "\n",
    "print (descriptive_string1)"
   ]
  },
  {
   "cell_type": "code",
   "execution_count": 94,
   "id": "024f8d3c",
   "metadata": {},
   "outputs": [
    {
     "name": "stdout",
     "output_type": "stream",
     "text": [
      "\n",
      "Product Name:\t\tLaptop\n",
      "Discount % :\t\t20\n",
      "Orignal Price:\t\t200000\n",
      "Discounted Price:\t160000.0\n"
     ]
    }
   ],
   "source": [
    "#Assignment 5: Combining Formatting Methods using .format()`\n",
    "\n",
    "product_name = \"Laptop\"\n",
    "disc = 20\n",
    "orignal_price = 200000\n",
    "discount_price = orignal_price * (1-disc/100)\n",
    "\n",
    "descriptive_string1 = \"\\nProduct Name:\\t\\t{}\"\\\n",
    "\"\\nDiscount % :\\t\\t{}\"  \"\\nOrignal Price:\\t\\t{}\"\\\n",
    "\"\\nDiscounted Price:\\t{}\".format(product_name,disc,orignal_price,discount_price)\n",
    "\n",
    "print (descriptive_string1)"
   ]
  },
  {
   "cell_type": "code",
   "execution_count": 93,
   "id": "bb35ebf8",
   "metadata": {},
   "outputs": [
    {
     "name": "stdout",
     "output_type": "stream",
     "text": [
      "\n",
      "Product Name :\t\tLaptop\n",
      "Discount %:\t\t20\n",
      "Orignal Price:\t\t200000\n",
      "Discounted Price:\t160000.0\n"
     ]
    }
   ],
   "source": [
    "#Assignment 5: Combining Formatting Methods using .f''``\n",
    "\n",
    "\n",
    "product_name = \"Laptop\"\n",
    "disc = 20\n",
    "orignal_price = 200000\n",
    "discount_price = orignal_price * (1-disc/100)\n",
    "\n",
    "descriptive_string1 = f\"\"\"\n",
    "Product Name :\\t\\t{product_name}\n",
    "Discount %:\\t\\t{disc}\n",
    "Orignal Price:\\t\\t{orignal_price}\n",
    "Discounted Price:\\t{discount_price}\"\"\"\n",
    "\n",
    "print(descriptive_string1)"
   ]
  },
  {
   "cell_type": "code",
   "execution_count": 114,
   "id": "96bc8937",
   "metadata": {},
   "outputs": [
    {
     "name": "stdout",
     "output_type": "stream",
     "text": [
      "Product Name:\t\tLaptop \n",
      "Discount :\t\t20 \n",
      "Orignal Price:\t\t200000 \n",
      "Discounted Price:\t160000\n"
     ]
    }
   ],
   "source": [
    "#Assignment 5: Combining Formatting Methods using .%()''``\n",
    "\n",
    "product_name = \"Laptop\"\n",
    "disc = 20\n",
    "orignal_price = 200000\n",
    "discount_price = orignal_price * (1-disc/100)\n",
    "\n",
    "descriptive_string1 =\"Product Name:\\t\\t%s \\nDiscount :\\t\\t%d \\nOrignal Price:\\t\\t%d \\nDiscounted Price:\\t%d\"%(product_name,disc,orignal_price,discount_price)\n",
    "\n",
    "print (descriptive_string1)"
   ]
  },
  {
   "cell_type": "code",
   "execution_count": null,
   "id": "1ab6922f",
   "metadata": {},
   "outputs": [],
   "source": []
  }
 ],
 "metadata": {
  "kernelspec": {
   "display_name": "Python 3 (ipykernel)",
   "language": "python",
   "name": "python3"
  },
  "language_info": {
   "codemirror_mode": {
    "name": "ipython",
    "version": 3
   },
   "file_extension": ".py",
   "mimetype": "text/x-python",
   "name": "python",
   "nbconvert_exporter": "python",
   "pygments_lexer": "ipython3",
   "version": "3.11.3"
  }
 },
 "nbformat": 4,
 "nbformat_minor": 5
}
